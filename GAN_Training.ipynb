{
 "cells": [
  {
   "cell_type": "code",
   "execution_count": 52,
   "metadata": {},
   "outputs": [],
   "source": [
    "%matplotlib inline \n",
    "import tensorflow as tf \n",
    "from tensorflow import keras\n",
    "from tensorflow.keras import layers, Sequential, Model\n",
    "from tensorflow.keras.layers import Dense, Conv3D, Conv1D, Conv3DTranspose, Dropout, MaxPool3D, Flatten, Reshape, Input, Permute, GlobalAvgPool3D\n",
    "from tensorflow.keras.initializers import RandomNormal\n",
    "from tensorflow.keras.optimizers import Adam, SGD\n",
    "import numpy as np\n",
    "from random import sample, seed\n",
    "from tqdm import tqdm\n",
    "import matplotlib.pyplot as plt\n",
    "\n",
    "physical_devices = tf.config.experimental.list_physical_devices('GPU')\n",
    "try:\n",
    "    tf.config.experimental.set_memory_growth(physical_devices[0], True)\n",
    "except:\n",
    "# Invalid device or cannot modify virtual devices once initialized.\n",
    "    pass\n",
    "\n",
    "from utils.losses import focalSoftMSE"
   ]
  },
  {
   "cell_type": "code",
   "execution_count": 83,
   "metadata": {},
   "outputs": [],
   "source": [
    "\n",
    "class AAE():\n",
    "    #Adversarial Autoencoder\n",
    "    def __init__(self, img_shape=(48, 96, 96, 1), encoded_dim=32, optimizer_generator = Adam(0.00005, beta_1=.5), \n",
    "                optimizer_discriminator = Adam(0.00001, beta_1=.5), optimizer_autoencoder = Adam(0.001, beta_1=.9)):\n",
    "        self.encoded_dim = encoded_dim\n",
    "        self.optimizer_generator = optimizer_generator\n",
    "        self.optimizer_discriminator = optimizer_discriminator\n",
    "        self.optimizer_autoencoder = optimizer_autoencoder\n",
    "        self.img_shape = img_shape\n",
    "        self.initializer = RandomNormal(mean=0., stddev=1.)\n",
    "        self.encoder, self.decoder, self.autoencoder, self.discriminator, \\\n",
    "                self.discriminator2, self.generator, self.generator2 = self._modelCompile(\n",
    "                self.img_shape, self.encoded_dim, \\\n",
    "                self.optimizer_autoencoder,\\\n",
    "                self.optimizer_discriminator,\\\n",
    "                self.optimizer_generator\n",
    "                )\n",
    "\n",
    "    def _buildEncoder(self, img_shape, encoded_dim):\n",
    "\n",
    "        encoder = Sequential()\n",
    "        encoder.add(Conv3D(input_shape = img_shape, filters = 16, kernel_size=3, strides=(1,)*3, padding=\"SAME\", activation='relu'))\n",
    "        #encoder.add(Dropout(0.2))\n",
    "        encoder.add(Conv3D(filters = 16, kernel_size=3, strides=(2,)*3, padding=\"SAME\", activation='relu'))\n",
    "        encoder.add(layers.BatchNormalization())\n",
    "        #encoder.add(MaxPool3D(pool_size=(2,)*3, padding=\"SAME\"))\n",
    "        \n",
    "        encoder.add(Conv3D(filters = 32, kernel_size=3, strides=(1,)*3, padding=\"SAME\", activation='relu'))\n",
    "        encoder.add(layers.BatchNormalization())\n",
    "        #encoder.add(Dropout(0.2))\n",
    "        encoder.add(Conv3D(filters = 32, kernel_size=3, strides=(2,)*3, padding=\"SAME\", activation='relu'))\n",
    "        encoder.add(layers.BatchNormalization())\n",
    "        #encoder.add(MaxPool3D(pool_size=(2,)*3, padding=\"SAME\"))\n",
    "        \n",
    "        encoder.add(Conv3D(filters = 64, kernel_size=3, strides=(1,)*3, padding=\"SAME\", activation='relu'))\n",
    "        encoder.add(layers.BatchNormalization())\n",
    "        #encoder.add(Dropout(0.2))\n",
    "        encoder.add(Conv3D(filters = 64, kernel_size=3, strides=(2,)*3, padding=\"SAME\", activation='relu'))\n",
    "        encoder.add(layers.BatchNormalization())\n",
    "        #encoder.add(MaxPool3D(pool_size=(2,)*3, padding=\"SAME\"))\n",
    "\n",
    "        encoder.add(Conv3D(filters = 128, kernel_size=3, strides=(1,)*3, padding=\"SAME\", activation='relu'))\n",
    "        encoder.add(layers.BatchNormalization())\n",
    "        #encoder.add(MaxPool3D(pool_size=(2,)*3, padding=\"SAME\"))\n",
    "        #encoder.add(GlobalAvgPool3D())\n",
    "#         encoder.add(Conv3D(filters = 1, kernel_size=3, strides=(1,)*3, padding=\"SAME\", activation='relu'))\n",
    "#         encoder.add(Flatten())\n",
    "#         encoder.add(Dense(512, activation=\"relu\"))\n",
    "#         encoder.add(Dropout(0.3))\n",
    "#         encoder.add(Dense(512, activation=\"relu\"))\n",
    "#         encoder.add(Dropout(0.3))\n",
    "#         encoder.add(Dense(encoded_dim))\n",
    "        \n",
    "        return encoder\n",
    "\n",
    "    def _buildDecoder(self, encoded_dim):\n",
    "\n",
    "        decoder = Sequential()\n",
    "#         decoder.add(Dense(512, activation='relu', input_dim=encoded_dim))\n",
    "#         #decoder.add(Dropout(0.3))\n",
    "#         decoder.add(Dense(512, activation='relu'))\n",
    "#         #decoder.add(Dropout(0.3))\n",
    "#         decoder.add(Dense(6*12*12, activation='relu'))\n",
    "#         #decoder.add(Dropout(0.3))\n",
    "#         #decoder.add(Reshape([12*24*24,1]))\n",
    "#         #decoder.add(Conv1D(filters = 64, kernel_size=1, padding='SAME', activation='relu'))\n",
    "#         #decoder.add(Permute((2,1)))\n",
    "#         decoder.add(Reshape([6,12,12,1]))\n",
    "        decoder.add(Conv3DTranspose(filters=128, kernel_size=3, strides=(1,)*3, padding=\"SAME\", activation='relu'))\n",
    "        decoder.add(layers.BatchNormalization())\n",
    "        decoder.add(Conv3DTranspose(filters=64, kernel_size=3, strides=(1,)*3, padding=\"SAME\", activation='relu'))\n",
    "        decoder.add(layers.BatchNormalization())\n",
    "        decoder.add(Conv3DTranspose(filters=64, kernel_size=3, strides=(2,)*3, padding=\"SAME\", activation='relu'))\n",
    "        decoder.add(layers.BatchNormalization())\n",
    "        decoder.add(Conv3DTranspose(filters=32, kernel_size=3, strides=(1,)*3, padding=\"SAME\", activation='relu'))\n",
    "        decoder.add(layers.BatchNormalization())\n",
    "        decoder.add(Conv3DTranspose(filters=32, kernel_size=3, strides=(2,)*3, padding=\"SAME\", activation='relu'))\n",
    "        decoder.add(layers.BatchNormalization())\n",
    "        decoder.add(Conv3DTranspose(filters=16, kernel_size=3, strides=(1,)*3, padding=\"SAME\", activation='relu'))\n",
    "        decoder.add(layers.BatchNormalization())\n",
    "        decoder.add(Conv3DTranspose(filters=16, kernel_size=3, strides=(2,)*3, padding=\"SAME\", activation='relu'))\n",
    "        decoder.add(layers.BatchNormalization())\n",
    "        decoder.add(Conv3DTranspose(filters=1, kernel_size=3, strides=(1,)*3, padding=\"SAME\", activation='relu'))\n",
    "        \n",
    "        return decoder\n",
    "\n",
    "    def _buildDiscriminator(self, encoded_dim):\n",
    "\n",
    "        discriminator = Sequential()\n",
    "        discriminator.add(Dense(512, input_dim=encoded_dim, activation=\"relu\"))\n",
    "        discriminator.add(Dense(512, activation=\"relu\"))\n",
    "        discriminator.add(Dense(64, activation=\"relu\"))\n",
    "        discriminator.add(Dense(1, activation=\"sigmoid\"))\n",
    "\n",
    "        return discriminator\n",
    "    \n",
    "    def _buildDiscriminator2(self, img_shape):\n",
    "        \n",
    "        discriminator = Sequential()\n",
    "        discriminator.add(Conv3D(input_shape = img_shape, filters = 16, kernel_size=3, strides=(1,)*3, padding=\"SAME\", activation='relu'))\n",
    "        #discriminator.add(Dropout(0.2))\n",
    "        #discriminator.add(Conv3D(filters = 16, kernel_size=3, strides=(1,)*3, padding=\"SAME\", activation='relu'))\n",
    "        discriminator.add(MaxPool3D(pool_size=(2,)*3, padding=\"SAME\"))\n",
    "        \n",
    "        #discriminator.add(Conv3D(filters = 32, kernel_size=3, strides=(1,)*3, padding=\"SAME\", activation='relu'))\n",
    "        #discriminator.add(Dropout(0.2))\n",
    "        discriminator.add(Conv3D(filters = 32, kernel_size=3, strides=(1,)*3, padding=\"SAME\", activation='relu'))\n",
    "        discriminator.add(MaxPool3D(pool_size=(2,)*3, padding=\"SAME\"))\n",
    "        \n",
    "        #discriminator.add(Conv3D(filters = 64, kernel_size=3, strides=(1,)*3, padding=\"SAME\", activation='relu'))\n",
    "        #discriminator.add(Dropout(0.2))\n",
    "        discriminator.add(Conv3D(filters = 64, kernel_size=3, strides=(1,)*3, padding=\"SAME\", activation='relu'))\n",
    "        discriminator.add(MaxPool3D(pool_size=(2,)*3, padding=\"SAME\"))\n",
    "\n",
    "        discriminator.add(Conv3D(filters = 128, kernel_size=3, strides=(1,)*3, padding=\"SAME\", activation='relu'))\n",
    "        #discriminator.add(MaxPool3D(pool_size=(2,)*3, padding=\"SAME\"))\n",
    "        discriminator.add(GlobalAvgPool3D())\n",
    "        #discriminator.add(Conv3D(filters = 1, kernel_size=3, strides=(1,)*3, padding=\"SAME\", activation='relu'))\n",
    "        discriminator.add(Flatten())\n",
    "        discriminator.add(Dense(128, activation=\"relu\"))\n",
    "        discriminator.add(Dense(1, activation=\"sigmoid\"))\n",
    "        \n",
    "        return discriminator\n",
    "\n",
    "    def _modelCompile(self, img_shape, encoded_dim, optimizer_autoencoder, optimizer_discriminator, optimizer_generator):\n",
    "\n",
    "        encoder=self._buildEncoder(img_shape, encoded_dim)\n",
    "        decoder=self._buildDecoder(encoded_dim)\n",
    "        \n",
    "        autoencoder_input = Input(shape = img_shape) # this is the input for autoencoder and main generator\n",
    "        decoder_input=Input(shape=encoded_dim)\n",
    "        \n",
    "        autoencoder=Model(autoencoder_input, decoder(encoder(autoencoder_input)))\n",
    "        autoencoder.compile(optimizer=optimizer_autoencoder, loss=\"mse\")\n",
    "        \n",
    "        discriminator = None\n",
    "        generator = None\n",
    "#         discriminator=self._buildDiscriminator(encoded_dim)\n",
    "#         discriminator.trainable = False\n",
    "#         generator = Model(autoencoder_input, discriminator(encoder(autoencoder_input)))\n",
    "#         generator.compile(optimizer=optimizer_generator, loss=\"mse\")\n",
    "#         discriminator.trainable = True\n",
    "#         discriminator.compile(optimizer=optimizer_discriminator, loss=\"mse\")\n",
    "    \n",
    "        discriminator2 = self._buildDiscriminator2(img_shape)\n",
    "        discriminator2.trainable = False\n",
    "        generator2=Model(autoencoder_input, discriminator2(autoencoder(autoencoder_input)))\n",
    "        generator2.compile(optimizer=optimizer_generator, loss=\"mse\")\n",
    "        discriminator2.trainable = True\n",
    "        discriminator2.compile(optimizer=optimizer_discriminator, loss=\"mse\")\n",
    "        \n",
    "        return encoder, decoder, autoencoder, discriminator, discriminator2, generator, generator2\n",
    "\n",
    "    def train(self, train_set, batch_size, n_epochs, n_sample):\n",
    "\n",
    "        autoencoder_losses = []\n",
    "        discriminator_losses = []\n",
    "        discriminator2_losses = []\n",
    "        generator_losses = []\n",
    "        generator2_losses = []\n",
    "\n",
    "        for epoch in np.arange(1, n_epochs):\n",
    "            x_idx_list = sample(range(n_sample), batch_size)\n",
    "            x = train_set[x_idx_list]\n",
    "\n",
    "            autoencoder_history = self.autoencoder.train_on_batch(x,x)\n",
    "            fake_latent = self.encoder.predict(x)\n",
    "            fake_image = self.decoder.predict(fake_latent)\n",
    "            \n",
    "#             discriminator_input = np.concatenate((fake_latent, np.random.randn(batch_size, self.encoded_dim)))\n",
    "#             discriminator_labels = np.concatenate((np.zeros((batch_size, 1)), np.ones((batch_size, 1))))\n",
    "            \n",
    "            discriminator2_input = np.concatenate((fake_image, x))\n",
    "            discriminator2_labels = np.concatenate((np.zeros((batch_size, 1)), np.ones((batch_size, 1))))\n",
    "            \n",
    "            discriminator_history=0\n",
    "            generator_history=0\n",
    "            \n",
    "            #discriminator_history = self.discriminator.train_on_batch(discriminator_input, discriminator_labels)\n",
    "            #generator_history = self.generator.train_on_batch(x, np.ones((batch_size, 1)))\n",
    "            \n",
    "            discriminator2_history = self.discriminator2.train_on_batch(discriminator2_input, discriminator2_labels)\n",
    "            generator2_history = self.generator2.train_on_batch(x, np.ones((batch_size, 1)))\n",
    "            \n",
    "            autoencoder_losses.append(autoencoder_history)\n",
    "            discriminator_losses.append(discriminator_history)\n",
    "            discriminator2_losses.append(discriminator2_history)\n",
    "            generator_losses.append(generator_history)\n",
    "            generator2_losses.append(generator2_history)\n",
    "            \n",
    "            if epoch == 1:\n",
    "                loss_min = autoencoder_history\n",
    "                loss_min_epoch = 1\n",
    "            \n",
    "            if epoch > 5 and autoencoder_history < loss_min:\n",
    "                loss_min = autoencoder_history\n",
    "                loss_min_epoch = epoch\n",
    "                self.autoencoder.save(\"../GAN_log/autoencoder_epoch_{}.h5\".format(epoch))\n",
    "                #self.discriminator.save(\"../GAN_log/discriminator_epoch_{}.h5\".format(epoch))\n",
    "                \n",
    "            \n",
    "            print(\"Epoch--{}\".format(epoch))\n",
    "            print(\"AE_loss: {:.4f}  AE_loss_min: {:.4f}  D1_loss:{:.3f}   D2_loss:{:.3f}   G1_loss:{:.3f}   G2_loss:{:.3f}\".format(\n",
    "                autoencoder_history, loss_min, discriminator_history, discriminator2_history, generator_history, generator2_history\n",
    "                )\n",
    "            )\n",
    "\n",
    "        self.history = {\n",
    "                        'AE_loss':autoencoder_losses, \n",
    "                        'D1_loss':discriminator_losses, \n",
    "                        'D2_loss':discriminator2_losses, \n",
    "                        'G1_loss':generator_losses,\n",
    "                        'G2_loss':generator2_losses\n",
    "                       }\n",
    "        print(\"Min_loss at epoch: {}\".format(loss_min_epoch))\n",
    "        print(\"Best model saved at: ../GAN_log/autoencoder_epoch_{}.h5\".format(loss_min_epoch))\n",
    "        \n",
    "        return self.history\n",
    "\n",
    "    def load_model(self):\n",
    "\n",
    "        return\n",
    "\n",
    "    def encodeImage(self):\n",
    "\n",
    "        return \n",
    "\n",
    "    def plot_losses(self):\n",
    "\n",
    "        return"
   ]
  },
  {
   "cell_type": "code",
   "execution_count": 21,
   "metadata": {},
   "outputs": [
    {
     "name": "stderr",
     "output_type": "stream",
     "text": [
      "100%|████████████████████████████████████████████████████████████████████████████████████████████████████████████████████████████████████████████████████████████████████████████████| 1198/1198 [00:13<00:00, 86.16it/s]\n"
     ]
    }
   ],
   "source": [
    "import os\n",
    "import SimpleITK as sitk \n",
    "\n",
    "datapath = r'../Data'\n",
    "file_reference = r'../Training/File_reference.csv'\n",
    "\n",
    "img_ls = os.listdir(datapath)\n",
    "train_set = np.zeros(shape=[len(img_ls), 48, 96, 96, 1])\n",
    "\n",
    "idx = 0\n",
    "for file in tqdm(img_ls):\n",
    "    img = sitk.ReadImage(os.path.join(datapath, file))\n",
    "    img = sitk.GetArrayFromImage(img)\n",
    "    img = img[:,2:98,2:98,np.newaxis].astype(np.float32) / 255.\n",
    "    train_set[idx] = img\n",
    "    idx += 1"
   ]
  },
  {
   "cell_type": "code",
   "execution_count": 85,
   "metadata": {
    "scrolled": true
   },
   "outputs": [],
   "source": [
    "model = AAE(encoded_dim=256)\n",
    "\n",
    "batch_size=16\n",
    "n_epochs=6000\n",
    "seed=42\n",
    "np.random.seed(42)\n"
   ]
  },
  {
   "cell_type": "code",
   "execution_count": null,
   "metadata": {},
   "outputs": [
    {
     "name": "stdout",
     "output_type": "stream",
     "text": [
      "Epoch--1\n",
      "AE_loss: 0.7904  AE_loss_min: 0.7904  D1_loss:0.000   D2_loss:0.251   G1_loss:0.000   G2_loss:0.261\n",
      "Epoch--2\n",
      "AE_loss: 0.3342  AE_loss_min: 0.7904  D1_loss:0.000   D2_loss:0.251   G1_loss:0.000   G2_loss:0.254\n",
      "Epoch--3\n",
      "AE_loss: 0.0933  AE_loss_min: 0.7904  D1_loss:0.000   D2_loss:0.251   G1_loss:0.000   G2_loss:0.252\n"
     ]
    }
   ],
   "source": [
    "history = model.train(train_set, batch_size, n_epochs, len(img_ls))"
   ]
  },
  {
   "cell_type": "code",
   "execution_count": 47,
   "metadata": {},
   "outputs": [
    {
     "data": {
      "image/png": "[encoded data removed]",
      "text/plain": [
       "<Figure size 1152x648 with 6 Axes>"
      ]
     },
     "metadata": {
      "needs_background": "light"
     },
     "output_type": "display_data"
    }
   ],
   "source": [
    "import matplotlib.pyplot as plt\n",
    "\n",
    "fig, ax = plt.subplots(2, 3, figsize=(16,9))\n",
    "\n",
    "ax[0, 0].plot(range(n_epochs-1), history[\"AE_loss\"], label=\"AE_loss\")\n",
    "ax[0, 0].set_title(\"AE_loss\")\n",
    "\n",
    "ax[0, 1].plot(range(n_epochs-1), history[\"G1_loss\"], label=\"G1_loss\")\n",
    "ax[0, 1].set_title(\"G1_loss\")\n",
    "\n",
    "ax[0, 2].plot(range(n_epochs-1), history[\"D1_loss\"], label=\"D1_loss\")\n",
    "ax[0, 2].set_title(\"D1_loss\")\n",
    "\n",
    "ax[1, 0].plot(range(n_epochs-1), history[\"G2_loss\"], label=\"G2_loss\")\n",
    "ax[1, 0].set_title(\"G2_loss\")\n",
    "\n",
    "ax[1, 1].plot(range(n_epochs-1), history[\"D2_loss\"], label=\"D2_loss\")\n",
    "ax[1, 1].set_title(\"D2_loss\")\n",
    "\n",
    "plt.show()"
   ]
  },
  {
   "cell_type": "code",
   "execution_count": null,
   "metadata": {},
   "outputs": [],
   "source": []
  },
  {
   "cell_type": "code",
   "execution_count": 81,
   "metadata": {},
   "outputs": [],
   "source": [
    "image = train_set[-38].reshape((1,48,96,96,1))\n",
    "model.autoencoder.load_weights(r'../GAN_log/autoencoder_epoch_62.h5')\n",
    "gen_image=np.squeeze(model.autoencoder.predict(image))\n",
    "image = np.squeeze(image)"
   ]
  },
  {
   "cell_type": "code",
   "execution_count": 82,
   "metadata": {},
   "outputs": [
    {
     "data": {
      "text/plain": [
       "<matplotlib.image.AxesImage at 0x24d730a3668>"
      ]
     },
     "execution_count": 82,
     "metadata": {},
     "output_type": "execute_result"
    },
    {
     "data": {
      "image/png": "[encoded data removed]",
      "text/plain": [
       "<Figure size 1152x648 with 6 Axes>"
      ]
     },
     "metadata": {
      "needs_background": "light"
     },
     "output_type": "display_data"
    }
   ],
   "source": [
    "fig2, ax = plt.subplots(2,3, figsize=(16,9))\n",
    "ax[0,0].imshow(image[35,:,:],cmap=\"Greys\")\n",
    "ax[1,0].imshow(gen_image[35,:,:],cmap=\"Greys\")\n",
    "ax[0,1].imshow(image[::-1,50,:],cmap=\"Greys\")\n",
    "ax[1,1].imshow(gen_image[::-1,50,:],cmap=\"Greys\")\n",
    "ax[0,2].imshow(image[::-1,:,60],cmap=\"Greys\")\n",
    "ax[1,2].imshow(gen_image[::-1,:,60],cmap=\"Greys\")"
   ]
  },
  {
   "cell_type": "code",
   "execution_count": null,
   "metadata": {},
   "outputs": [],
   "source": []
  },
  {
   "cell_type": "code",
   "execution_count": 60,
   "metadata": {},
   "outputs": [
    {
     "name": "stdout",
     "output_type": "stream",
     "text": [
      "Model: \"sequential_46\"\n",
      "_________________________________________________________________\n",
      "Layer (type)                 Output Shape              Param #   \n",
      "=================================================================\n",
      "conv3d_136 (Conv3D)          (None, 48, 96, 96, 16)    448       \n",
      "_________________________________________________________________\n",
      "conv3d_137 (Conv3D)          (None, 24, 48, 48, 16)    6928      \n",
      "_________________________________________________________________\n",
      "batch_normalization_26 (Batc (None, 24, 48, 48, 16)    64        \n",
      "_________________________________________________________________\n",
      "conv3d_138 (Conv3D)          (None, 24, 48, 48, 32)    13856     \n",
      "_________________________________________________________________\n",
      "batch_normalization_27 (Batc (None, 24, 48, 48, 32)    128       \n",
      "_________________________________________________________________\n",
      "conv3d_139 (Conv3D)          (None, 12, 24, 24, 32)    27680     \n",
      "_________________________________________________________________\n",
      "batch_normalization_28 (Batc (None, 12, 24, 24, 32)    128       \n",
      "_________________________________________________________________\n",
      "conv3d_140 (Conv3D)          (None, 12, 24, 24, 64)    55360     \n",
      "_________________________________________________________________\n",
      "batch_normalization_29 (Batc (None, 12, 24, 24, 64)    256       \n",
      "_________________________________________________________________\n",
      "conv3d_141 (Conv3D)          (None, 6, 12, 12, 64)     110656    \n",
      "_________________________________________________________________\n",
      "batch_normalization_30 (Batc (None, 6, 12, 12, 64)     256       \n",
      "_________________________________________________________________\n",
      "conv3d_142 (Conv3D)          (None, 6, 12, 12, 128)    221312    \n",
      "_________________________________________________________________\n",
      "batch_normalization_31 (Batc (None, 6, 12, 12, 128)    512       \n",
      "_________________________________________________________________\n",
      "conv3d_143 (Conv3D)          (None, 6, 12, 12, 1)      3457      \n",
      "_________________________________________________________________\n",
      "flatten_22 (Flatten)         (None, 864)               0         \n",
      "_________________________________________________________________\n",
      "dense_132 (Dense)            (None, 512)               442880    \n",
      "_________________________________________________________________\n",
      "dropout_49 (Dropout)         (None, 512)               0         \n",
      "_________________________________________________________________\n",
      "dense_133 (Dense)            (None, 512)               262656    \n",
      "_________________________________________________________________\n",
      "dropout_50 (Dropout)         (None, 512)               0         \n",
      "_________________________________________________________________\n",
      "dense_134 (Dense)            (None, 256)               131328    \n",
      "=================================================================\n",
      "Total params: 1,277,905\n",
      "Trainable params: 1,277,233\n",
      "Non-trainable params: 672\n",
      "_________________________________________________________________\n"
     ]
    }
   ],
   "source": [
    "#model = AAE(encoded_dim=256)\n",
    "model.encoder.summary()"
   ]
  },
  {
   "cell_type": "code",
   "execution_count": 61,
   "metadata": {},
   "outputs": [
    {
     "name": "stdout",
     "output_type": "stream",
     "text": [
      "Model: \"sequential_47\"\n",
      "_________________________________________________________________\n",
      "Layer (type)                 Output Shape              Param #   \n",
      "=================================================================\n",
      "dense_135 (Dense)            (None, 512)               131584    \n",
      "_________________________________________________________________\n",
      "dense_136 (Dense)            (None, 512)               262656    \n",
      "_________________________________________________________________\n",
      "dense_137 (Dense)            (None, 864)               443232    \n",
      "_________________________________________________________________\n",
      "reshape_11 (Reshape)         (None, 6, 12, 12, 1)      0         \n",
      "_________________________________________________________________\n",
      "conv3d_transpose_88 (Conv3DT (None, 6, 12, 12, 128)    3584      \n",
      "_________________________________________________________________\n",
      "batch_normalization_32 (Batc (None, 6, 12, 12, 128)    512       \n",
      "_________________________________________________________________\n",
      "conv3d_transpose_89 (Conv3DT (None, 6, 12, 12, 64)     221248    \n",
      "_________________________________________________________________\n",
      "batch_normalization_33 (Batc (None, 6, 12, 12, 64)     256       \n",
      "_________________________________________________________________\n",
      "conv3d_transpose_90 (Conv3DT (None, 12, 24, 24, 64)    110656    \n",
      "_________________________________________________________________\n",
      "batch_normalization_34 (Batc (None, 12, 24, 24, 64)    256       \n",
      "_________________________________________________________________\n",
      "conv3d_transpose_91 (Conv3DT (None, 12, 24, 24, 32)    55328     \n",
      "_________________________________________________________________\n",
      "batch_normalization_35 (Batc (None, 12, 24, 24, 32)    128       \n",
      "_________________________________________________________________\n",
      "conv3d_transpose_92 (Conv3DT (None, 24, 48, 48, 32)    27680     \n",
      "_________________________________________________________________\n",
      "batch_normalization_36 (Batc (None, 24, 48, 48, 32)    128       \n",
      "_________________________________________________________________\n",
      "conv3d_transpose_93 (Conv3DT (None, 24, 48, 48, 16)    13840     \n",
      "_________________________________________________________________\n",
      "batch_normalization_37 (Batc (None, 24, 48, 48, 16)    64        \n",
      "_________________________________________________________________\n",
      "conv3d_transpose_94 (Conv3DT (None, 48, 96, 96, 16)    6928      \n",
      "_________________________________________________________________\n",
      "batch_normalization_38 (Batc (None, 48, 96, 96, 16)    64        \n",
      "_________________________________________________________________\n",
      "conv3d_transpose_95 (Conv3DT (None, 48, 96, 96, 1)     433       \n",
      "=================================================================\n",
      "Total params: 1,278,577\n",
      "Trainable params: 1,277,873\n",
      "Non-trainable params: 704\n",
      "_________________________________________________________________\n"
     ]
    }
   ],
   "source": [
    "model.decoder.summary()"
   ]
  },
  {
   "cell_type": "code",
   "execution_count": 44,
   "metadata": {},
   "outputs": [
    {
     "name": "stdout",
     "output_type": "stream",
     "text": [
      "Model: \"sequential_44\"\n",
      "_________________________________________________________________\n",
      "Layer (type)                 Output Shape              Param #   \n",
      "=================================================================\n",
      "conv3d_103 (Conv3D)          (None, 48, 96, 96, 16)    448       \n",
      "_________________________________________________________________\n",
      "conv3d_104 (Conv3D)          (None, 48, 96, 96, 16)    6928      \n",
      "_________________________________________________________________\n",
      "max_pooling3d_43 (MaxPooling (None, 24, 48, 48, 16)    0         \n",
      "_________________________________________________________________\n",
      "conv3d_105 (Conv3D)          (None, 24, 48, 48, 32)    13856     \n",
      "_________________________________________________________________\n",
      "conv3d_106 (Conv3D)          (None, 24, 48, 48, 32)    27680     \n",
      "_________________________________________________________________\n",
      "max_pooling3d_44 (MaxPooling (None, 12, 24, 24, 32)    0         \n",
      "_________________________________________________________________\n",
      "conv3d_107 (Conv3D)          (None, 12, 24, 24, 64)    55360     \n",
      "_________________________________________________________________\n",
      "conv3d_108 (Conv3D)          (None, 12, 24, 24, 64)    110656    \n",
      "_________________________________________________________________\n",
      "max_pooling3d_45 (MaxPooling (None, 6, 12, 12, 64)     0         \n",
      "_________________________________________________________________\n",
      "conv3d_109 (Conv3D)          (None, 6, 12, 12, 128)    221312    \n",
      "_________________________________________________________________\n",
      "global_average_pooling3d_7 ( (None, 128)               0         \n",
      "_________________________________________________________________\n",
      "flatten_15 (Flatten)         (None, 128)               0         \n",
      "_________________________________________________________________\n",
      "dense_85 (Dense)             (None, 1)                 129       \n",
      "=================================================================\n",
      "Total params: 436,369\n",
      "Trainable params: 436,369\n",
      "Non-trainable params: 0\n",
      "_________________________________________________________________\n"
     ]
    }
   ],
   "source": [
    "model.discriminator2.summary()"
   ]
  },
  {
   "cell_type": "code",
   "execution_count": 52,
   "metadata": {},
   "outputs": [
    {
     "name": "stdout",
     "output_type": "stream",
     "text": [
      "True\n",
      "True\n",
      "True\n"
     ]
    }
   ],
   "source": [
    "for layer in model.generator.layers:\n",
    "    print(layer.trainable)"
   ]
  },
  {
   "cell_type": "code",
   "execution_count": 57,
   "metadata": {},
   "outputs": [
    {
     "name": "stdout",
     "output_type": "stream",
     "text": [
      "Model: \"model_34\"\n",
      "_________________________________________________________________\n",
      "Layer (type)                 Output Shape              Param #   \n",
      "=================================================================\n",
      "input_22 (InputLayer)        [(None, 128)]             0         \n",
      "_________________________________________________________________\n",
      "sequential_50 (Sequential)   (None, 48, 96, 96, 1)     2219409   \n",
      "_________________________________________________________________\n",
      "sequential_52 (Sequential)   (None, 1)                 69729     \n",
      "=================================================================\n",
      "Total params: 2,219,409\n",
      "Trainable params: 2,219,409\n",
      "Non-trainable params: 0\n",
      "_________________________________________________________________\n"
     ]
    }
   ],
   "source": [
    "model.generator2.summary()"
   ]
  },
  {
   "cell_type": "code",
   "execution_count": null,
   "metadata": {},
   "outputs": [],
   "source": []
  }
 ],
 "metadata": {
  "kernelspec": {
   "display_name": "Python 3",
   "language": "python",
   "name": "python3"
  },
  "language_info": {
   "codemirror_mode": {
    "name": "ipython",
    "version": 3
   },
   "file_extension": ".py",
   "mimetype": "text/x-python",
   "name": "python",
   "nbconvert_exporter": "python",
   "pygments_lexer": "ipython3",
   "version": "3.7.2"
  }
 },
 "nbformat": 4,
 "nbformat_minor": 2
}
