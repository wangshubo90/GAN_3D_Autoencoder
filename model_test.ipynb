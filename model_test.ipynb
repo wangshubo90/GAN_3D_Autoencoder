{
 "cells": [
  {
   "cell_type": "code",
   "execution_count": 67,
   "id": "f3b9f9e3",
   "metadata": {},
   "outputs": [],
   "source": [
    "import os\n",
    "import numpy as np\n",
    "from random import sample, seed\n",
    "from tqdm import tqdm\n",
    "import tensorflow as tf \n",
    "os.environ['AUTOGRAPH_VERBOSITY'] = \"0\"\n",
    "from tensorflow import keras\n",
    "from tensorflow.keras import layers, Sequential, Model\n",
    "from tensorflow.keras.layers import Dense, Conv3D, Conv1D, Conv3DTranspose, Flatten, Reshape, Input, BatchNormalization, GlobalAveragePooling3D, Dropout\n",
    "from tensorflow.keras.activations import relu, sigmoid\n",
    "from tensorflow.keras.initializers import RandomNormal\n",
    "from tensorflow.keras.optimizers import Adam, SGD\n",
    "from utils.layers import *"
   ]
  },
  {
   "cell_type": "code",
   "execution_count": 33,
   "id": "fdbcbb5a",
   "metadata": {},
   "outputs": [],
   "source": [
    "def _buildEncoder(input_shape, filters=[32, 64, 128], last_activation=relu):\n",
    "\n",
    "    input = Input(shape=input_shape)\n",
    "    x = Conv3D(filters=filters[0], kernel_size=5, strides=(2,2,2), padding=\"SAME\")(input)\n",
    "    x = BatchNormalization()(x)\n",
    "    x = relu(x)\n",
    "    for i, ft in enumerate(filters[1:]):\n",
    "        if i == len(filters[1:])-1:\n",
    "            x = residual_block(x, filters = ft, kernel_size= 3,  \n",
    "                        strides = (2,2,2), padding = \"SAME\", activate=relu)\n",
    "        else:\n",
    "            x = residual_block(x, filters = ft, kernel_size= 3,  \n",
    "                        strides = (2,2,2), padding = \"SAME\", activate=last_activation)\n",
    "\n",
    "    encoder = Model(inputs=input, outputs=x)         \n",
    "    return encoder"
   ]
  },
  {
   "cell_type": "code",
   "execution_count": 34,
   "id": "81e78fd3",
   "metadata": {},
   "outputs": [],
   "source": [
    "encoder = _buildEncoder([15,60,60,1], filters=[32, 64, 128])"
   ]
  },
  {
   "cell_type": "code",
   "execution_count": 35,
   "id": "b42b10dc",
   "metadata": {},
   "outputs": [
    {
     "data": {
      "text/plain": [
       "TensorShape([8, 2, 8, 8, 128])"
      ]
     },
     "execution_count": 35,
     "metadata": {},
     "output_type": "execute_result"
    }
   ],
   "source": [
    "a = tf.ones(shape=[8,15,60,60,1], dtype=tf.float32)\n",
    "b = encoder(a)\n",
    "b.shape"
   ]
  },
  {
   "cell_type": "code",
   "execution_count": 49,
   "id": "fa46b4b2",
   "metadata": {},
   "outputs": [],
   "source": [
    "def _buildDecoder(input_shape, filters=[16, 32, 64, 128], last_activation=relu):\n",
    "    input = Input(shape=input_shape)\n",
    "    x = Conv3DTranspose(filters=filters[-1], kernel_size=3, strides=(2,)*3, padding=\"SAME\", activation='relu')(input)\n",
    "    x = BatchNormalization()(x)\n",
    "    for i, ft in enumerate(filters[-2::-1]):\n",
    "        if i != len(filters[-2::-1])-1:\n",
    "            x = resTP_block(x, filters=ft, strides=(2,2,2),padding=\"SAME\")\n",
    "        else:\n",
    "            x = resTP_block(x, filters=ft, strides=(2,2,2),padding=\"SAME\", activation=last_activation)\n",
    "    x = x[:, :15, 2:62, 2:62, :]\n",
    "    decoder = Model(inputs=input, outputs=x)\n",
    "    return decoder"
   ]
  },
  {
   "cell_type": "code",
   "execution_count": 50,
   "id": "31d1f87d",
   "metadata": {},
   "outputs": [
    {
     "data": {
      "text/plain": [
       "TensorShape([None, 2, 8, 8, 128])"
      ]
     },
     "execution_count": 50,
     "metadata": {},
     "output_type": "execute_result"
    }
   ],
   "source": [
    "encoder.output.shape"
   ]
  },
  {
   "cell_type": "code",
   "execution_count": 51,
   "id": "adcaa038",
   "metadata": {},
   "outputs": [],
   "source": [
    "decoder = _buildDecoder([1, 4, 4, 128])"
   ]
  },
  {
   "cell_type": "code",
   "execution_count": 52,
   "id": "5d7eab58",
   "metadata": {},
   "outputs": [
    {
     "name": "stdout",
     "output_type": "stream",
     "text": [
      "Model: \"functional_17\"\n",
      "__________________________________________________________________________________________________\n",
      "Layer (type)                    Output Shape         Param #     Connected to                     \n",
      "==================================================================================================\n",
      "input_12 (InputLayer)           [(None, 1, 4, 4, 128 0                                            \n",
      "__________________________________________________________________________________________________\n",
      "conv3d_transpose_93 (Conv3DTran (None, 2, 8, 8, 128) 442496      input_12[0][0]                   \n",
      "__________________________________________________________________________________________________\n",
      "batch_normalization_107 (BatchN (None, 2, 8, 8, 128) 512         conv3d_transpose_93[0][0]        \n",
      "__________________________________________________________________________________________________\n",
      "conv3d_transpose_94 (Conv3DTran (None, 4, 16, 16, 64 221248      batch_normalization_107[0][0]    \n",
      "__________________________________________________________________________________________________\n",
      "batch_normalization_108 (BatchN (None, 4, 16, 16, 64 256         conv3d_transpose_94[0][0]        \n",
      "__________________________________________________________________________________________________\n",
      "tf_op_layer_Relu_64 (TensorFlow [(None, 4, 16, 16, 6 0           batch_normalization_108[0][0]    \n",
      "__________________________________________________________________________________________________\n",
      "conv3d_transpose_95 (Conv3DTran (None, 4, 16, 16, 64 110656      tf_op_layer_Relu_64[0][0]        \n",
      "__________________________________________________________________________________________________\n",
      "conv3d_transpose_96 (Conv3DTran (None, 4, 16, 16, 64 8256        batch_normalization_107[0][0]    \n",
      "__________________________________________________________________________________________________\n",
      "batch_normalization_109 (BatchN (None, 4, 16, 16, 64 256         conv3d_transpose_95[0][0]        \n",
      "__________________________________________________________________________________________________\n",
      "batch_normalization_110 (BatchN (None, 4, 16, 16, 64 256         conv3d_transpose_96[0][0]        \n",
      "__________________________________________________________________________________________________\n",
      "tf_op_layer_AddV2_34 (TensorFlo [(None, 4, 16, 16, 6 0           batch_normalization_109[0][0]    \n",
      "                                                                 batch_normalization_110[0][0]    \n",
      "__________________________________________________________________________________________________\n",
      "tf_op_layer_Relu_65 (TensorFlow [(None, 4, 16, 16, 6 0           tf_op_layer_AddV2_34[0][0]       \n",
      "__________________________________________________________________________________________________\n",
      "conv3d_transpose_97 (Conv3DTran (None, 8, 32, 32, 32 55328       tf_op_layer_Relu_65[0][0]        \n",
      "__________________________________________________________________________________________________\n",
      "batch_normalization_111 (BatchN (None, 8, 32, 32, 32 128         conv3d_transpose_97[0][0]        \n",
      "__________________________________________________________________________________________________\n",
      "tf_op_layer_Relu_66 (TensorFlow [(None, 8, 32, 32, 3 0           batch_normalization_111[0][0]    \n",
      "__________________________________________________________________________________________________\n",
      "conv3d_transpose_98 (Conv3DTran (None, 8, 32, 32, 32 27680       tf_op_layer_Relu_66[0][0]        \n",
      "__________________________________________________________________________________________________\n",
      "conv3d_transpose_99 (Conv3DTran (None, 8, 32, 32, 32 2080        tf_op_layer_Relu_65[0][0]        \n",
      "__________________________________________________________________________________________________\n",
      "batch_normalization_112 (BatchN (None, 8, 32, 32, 32 128         conv3d_transpose_98[0][0]        \n",
      "__________________________________________________________________________________________________\n",
      "batch_normalization_113 (BatchN (None, 8, 32, 32, 32 128         conv3d_transpose_99[0][0]        \n",
      "__________________________________________________________________________________________________\n",
      "tf_op_layer_AddV2_35 (TensorFlo [(None, 8, 32, 32, 3 0           batch_normalization_112[0][0]    \n",
      "                                                                 batch_normalization_113[0][0]    \n",
      "__________________________________________________________________________________________________\n",
      "tf_op_layer_Relu_67 (TensorFlow [(None, 8, 32, 32, 3 0           tf_op_layer_AddV2_35[0][0]       \n",
      "__________________________________________________________________________________________________\n",
      "conv3d_transpose_100 (Conv3DTra (None, 16, 64, 64, 1 13840       tf_op_layer_Relu_67[0][0]        \n",
      "__________________________________________________________________________________________________\n",
      "batch_normalization_114 (BatchN (None, 16, 64, 64, 1 64          conv3d_transpose_100[0][0]       \n",
      "__________________________________________________________________________________________________\n",
      "tf_op_layer_Relu_68 (TensorFlow [(None, 16, 64, 64,  0           batch_normalization_114[0][0]    \n",
      "__________________________________________________________________________________________________\n",
      "conv3d_transpose_101 (Conv3DTra (None, 16, 64, 64, 1 6928        tf_op_layer_Relu_68[0][0]        \n",
      "__________________________________________________________________________________________________\n",
      "conv3d_transpose_102 (Conv3DTra (None, 16, 64, 64, 1 528         tf_op_layer_Relu_67[0][0]        \n",
      "__________________________________________________________________________________________________\n",
      "batch_normalization_115 (BatchN (None, 16, 64, 64, 1 64          conv3d_transpose_101[0][0]       \n",
      "__________________________________________________________________________________________________\n",
      "batch_normalization_116 (BatchN (None, 16, 64, 64, 1 64          conv3d_transpose_102[0][0]       \n",
      "__________________________________________________________________________________________________\n",
      "tf_op_layer_AddV2_36 (TensorFlo [(None, 16, 64, 64,  0           batch_normalization_115[0][0]    \n",
      "                                                                 batch_normalization_116[0][0]    \n",
      "__________________________________________________________________________________________________\n",
      "tf_op_layer_Relu_69 (TensorFlow [(None, 16, 64, 64,  0           tf_op_layer_AddV2_36[0][0]       \n",
      "__________________________________________________________________________________________________\n",
      "tf_op_layer_strided_slice (Tens [(None, 15, 60, 60,  0           tf_op_layer_Relu_69[0][0]        \n",
      "==================================================================================================\n",
      "Total params: 890,896\n",
      "Trainable params: 889,968\n",
      "Non-trainable params: 928\n",
      "__________________________________________________________________________________________________\n"
     ]
    }
   ],
   "source": [
    "decoder.summary()"
   ]
  },
  {
   "cell_type": "code",
   "execution_count": 49,
   "id": "1f8ef414",
   "metadata": {},
   "outputs": [
    {
     "ename": "AttributeError",
     "evalue": "'NoneType' object has no attribute 'shape'",
     "output_type": "error",
     "traceback": [
      "\u001b[1;31m---------------------------------------------------------------------------\u001b[0m",
      "\u001b[1;31mAttributeError\u001b[0m                            Traceback (most recent call last)",
      "\u001b[1;32m<ipython-input-49-9f2b259887ef>\u001b[0m in \u001b[0;36m<module>\u001b[1;34m\u001b[0m\n\u001b[1;32m----> 1\u001b[1;33m \u001b[0mx\u001b[0m\u001b[1;33m.\u001b[0m\u001b[0mshape\u001b[0m\u001b[1;33m\u001b[0m\u001b[1;33m\u001b[0m\u001b[0m\n\u001b[0m",
      "\u001b[1;31mAttributeError\u001b[0m: 'NoneType' object has no attribute 'shape'"
     ]
    }
   ],
   "source": [
    "x.shape"
   ]
  },
  {
   "cell_type": "code",
   "execution_count": 48,
   "id": "19911494",
   "metadata": {},
   "outputs": [
    {
     "data": {
      "text/plain": [
       "TensorShape([8, 4, 16, 16, 12])"
      ]
     },
     "execution_count": 48,
     "metadata": {},
     "output_type": "execute_result"
    }
   ],
   "source": [
    "conv = Conv3DTranspose(12, 3, strides=(2,2,2), padding=\"SAME\")\n",
    "\n",
    "conv(b).shape"
   ]
  },
  {
   "cell_type": "code",
   "execution_count": 68,
   "id": "46154070",
   "metadata": {},
   "outputs": [],
   "source": [
    "def _buildDiscriminator(input_shape, filters=[16, 32, 64, 128], last_activation=relu):\n",
    "\n",
    "    input = Input(shape=input_shape)\n",
    "    x = Conv3D(filters=filters[0], kernel_size=5, strides=(2,2,2), padding=\"SAME\")(input)\n",
    "    x = BatchNormalization()(x)\n",
    "    x = relu(x)\n",
    "    for i, ft in enumerate(filters[1:]):\n",
    "        if i == len(filters[1:])-1:\n",
    "            x = residual_block(x, filters = ft, kernel_size= 3,  \n",
    "                        strides = (2,2,2), padding = \"SAME\", activate=relu)\n",
    "        else:\n",
    "            x = residual_block(x, filters = ft, kernel_size= 3,  \n",
    "                        strides = (2,2,2), padding = \"SAME\", activate=last_activation)\n",
    "\n",
    "    x = GlobalAveragePooling3D()(x)\n",
    "    x = Flatten()(x)\n",
    "    x = Dense(128)(x)\n",
    "    x = Dropout(0.7)(x)\n",
    "    x = Dense(128)(x)\n",
    "    x = Dropout(0.7)(x)\n",
    "    x = Dense(1, activation=sigmoid)(x)\n",
    "    discriminator = Model(inputs=input, outputs=x) \n",
    "\n",
    "    return discriminator"
   ]
  },
  {
   "cell_type": "code",
   "execution_count": 69,
   "id": "26624c8a",
   "metadata": {},
   "outputs": [],
   "source": [
    "ds = _buildDiscriminator([15, 60, 60, 1])"
   ]
  },
  {
   "cell_type": "code",
   "execution_count": 70,
   "id": "1bccd36d",
   "metadata": {},
   "outputs": [
    {
     "data": {
      "text/plain": [
       "<tf.Tensor: shape=(2, 1), dtype=float32, numpy=\n",
       "array([[0.5013346],\n",
       "       [0.5013346]], dtype=float32)>"
      ]
     },
     "execution_count": 70,
     "metadata": {},
     "output_type": "execute_result"
    }
   ],
   "source": [
    "ds(tf.ones(shape=(2,8,8,1)))"
   ]
  },
  {
   "cell_type": "code",
   "execution_count": 62,
   "id": "d6b252ce",
   "metadata": {},
   "outputs": [
    {
     "name": "stdout",
     "output_type": "stream",
     "text": [
      "Model: \"functional_19\"\n",
      "__________________________________________________________________________________________________\n",
      "Layer (type)                    Output Shape         Param #     Connected to                     \n",
      "==================================================================================================\n",
      "input_15 (InputLayer)           [(None, 2, 8, 8, 128 0                                            \n",
      "__________________________________________________________________________________________________\n",
      "conv3d_40 (Conv3D)              (None, 1, 4, 4, 16)  256016      input_15[0][0]                   \n",
      "__________________________________________________________________________________________________\n",
      "batch_normalization_137 (BatchN (None, 1, 4, 4, 16)  64          conv3d_40[0][0]                  \n",
      "__________________________________________________________________________________________________\n",
      "tf_op_layer_Relu_84 (TensorFlow [(None, 1, 4, 4, 16) 0           batch_normalization_137[0][0]    \n",
      "__________________________________________________________________________________________________\n",
      "conv3d_41 (Conv3D)              (None, 1, 2, 2, 32)  13856       tf_op_layer_Relu_84[0][0]        \n",
      "__________________________________________________________________________________________________\n",
      "batch_normalization_138 (BatchN (None, 1, 2, 2, 32)  128         conv3d_41[0][0]                  \n",
      "__________________________________________________________________________________________________\n",
      "tf_op_layer_Relu_85 (TensorFlow [(None, 1, 2, 2, 32) 0           batch_normalization_138[0][0]    \n",
      "__________________________________________________________________________________________________\n",
      "conv3d_42 (Conv3D)              (None, 1, 2, 2, 32)  27680       tf_op_layer_Relu_85[0][0]        \n",
      "__________________________________________________________________________________________________\n",
      "conv3d_43 (Conv3D)              (None, 1, 2, 2, 32)  544         tf_op_layer_Relu_84[0][0]        \n",
      "__________________________________________________________________________________________________\n",
      "batch_normalization_139 (BatchN (None, 1, 2, 2, 32)  128         conv3d_42[0][0]                  \n",
      "__________________________________________________________________________________________________\n",
      "batch_normalization_140 (BatchN (None, 1, 2, 2, 32)  128         conv3d_43[0][0]                  \n",
      "__________________________________________________________________________________________________\n",
      "tf_op_layer_AddV2_43 (TensorFlo [(None, 1, 2, 2, 32) 0           batch_normalization_139[0][0]    \n",
      "                                                                 batch_normalization_140[0][0]    \n",
      "__________________________________________________________________________________________________\n",
      "tf_op_layer_Relu_86 (TensorFlow [(None, 1, 2, 2, 32) 0           tf_op_layer_AddV2_43[0][0]       \n",
      "__________________________________________________________________________________________________\n",
      "conv3d_44 (Conv3D)              (None, 1, 1, 1, 64)  55360       tf_op_layer_Relu_86[0][0]        \n",
      "__________________________________________________________________________________________________\n",
      "batch_normalization_141 (BatchN (None, 1, 1, 1, 64)  256         conv3d_44[0][0]                  \n",
      "__________________________________________________________________________________________________\n",
      "tf_op_layer_Relu_87 (TensorFlow [(None, 1, 1, 1, 64) 0           batch_normalization_141[0][0]    \n",
      "__________________________________________________________________________________________________\n",
      "conv3d_45 (Conv3D)              (None, 1, 1, 1, 64)  110656      tf_op_layer_Relu_87[0][0]        \n",
      "__________________________________________________________________________________________________\n",
      "conv3d_46 (Conv3D)              (None, 1, 1, 1, 64)  2112        tf_op_layer_Relu_86[0][0]        \n",
      "__________________________________________________________________________________________________\n",
      "batch_normalization_142 (BatchN (None, 1, 1, 1, 64)  256         conv3d_45[0][0]                  \n",
      "__________________________________________________________________________________________________\n",
      "batch_normalization_143 (BatchN (None, 1, 1, 1, 64)  256         conv3d_46[0][0]                  \n",
      "__________________________________________________________________________________________________\n",
      "tf_op_layer_AddV2_44 (TensorFlo [(None, 1, 1, 1, 64) 0           batch_normalization_142[0][0]    \n",
      "                                                                 batch_normalization_143[0][0]    \n",
      "__________________________________________________________________________________________________\n",
      "tf_op_layer_Relu_88 (TensorFlow [(None, 1, 1, 1, 64) 0           tf_op_layer_AddV2_44[0][0]       \n",
      "__________________________________________________________________________________________________\n",
      "conv3d_47 (Conv3D)              (None, 1, 1, 1, 128) 221312      tf_op_layer_Relu_88[0][0]        \n",
      "__________________________________________________________________________________________________\n",
      "batch_normalization_144 (BatchN (None, 1, 1, 1, 128) 512         conv3d_47[0][0]                  \n",
      "__________________________________________________________________________________________________\n",
      "tf_op_layer_Relu_89 (TensorFlow [(None, 1, 1, 1, 128 0           batch_normalization_144[0][0]    \n",
      "__________________________________________________________________________________________________\n",
      "conv3d_48 (Conv3D)              (None, 1, 1, 1, 128) 442496      tf_op_layer_Relu_89[0][0]        \n",
      "__________________________________________________________________________________________________\n",
      "conv3d_49 (Conv3D)              (None, 1, 1, 1, 128) 8320        tf_op_layer_Relu_88[0][0]        \n",
      "__________________________________________________________________________________________________\n",
      "batch_normalization_145 (BatchN (None, 1, 1, 1, 128) 512         conv3d_48[0][0]                  \n",
      "__________________________________________________________________________________________________\n",
      "batch_normalization_146 (BatchN (None, 1, 1, 1, 128) 512         conv3d_49[0][0]                  \n",
      "__________________________________________________________________________________________________\n",
      "tf_op_layer_AddV2_45 (TensorFlo [(None, 1, 1, 1, 128 0           batch_normalization_145[0][0]    \n",
      "                                                                 batch_normalization_146[0][0]    \n",
      "__________________________________________________________________________________________________\n",
      "tf_op_layer_Relu_90 (TensorFlow [(None, 1, 1, 1, 128 0           tf_op_layer_AddV2_45[0][0]       \n",
      "__________________________________________________________________________________________________\n",
      "global_average_pooling3d_1 (Glo (None, 128)          0           tf_op_layer_Relu_90[0][0]        \n",
      "__________________________________________________________________________________________________\n",
      "flatten_1 (Flatten)             (None, 128)          0           global_average_pooling3d_1[0][0] \n",
      "__________________________________________________________________________________________________\n",
      "dense_1 (Dense)                 (None, 128)          16512       flatten_1[0][0]                  \n",
      "__________________________________________________________________________________________________\n",
      "dropout (Dropout)               (None, 128)          0           dense_1[0][0]                    \n",
      "__________________________________________________________________________________________________\n",
      "dense_2 (Dense)                 (None, 128)          16512       dropout[0][0]                    \n",
      "__________________________________________________________________________________________________\n",
      "dropout_1 (Dropout)             (None, 128)          0           dense_2[0][0]                    \n",
      "__________________________________________________________________________________________________\n",
      "dense_3 (Dense)                 (None, 1)            129         dropout_1[0][0]                  \n",
      "==================================================================================================\n",
      "Total params: 1,174,257\n",
      "Trainable params: 1,172,881\n",
      "Non-trainable params: 1,376\n",
      "__________________________________________________________________________________________________\n"
     ]
    }
   ],
   "source": [
    "ds.summary()"
   ]
  },
  {
   "cell_type": "code",
   "execution_count": null,
   "id": "5adc6e7d",
   "metadata": {},
   "outputs": [],
   "source": []
  }
 ],
 "metadata": {
  "kernelspec": {
   "display_name": "Python 3",
   "language": "python",
   "name": "python3"
  },
  "language_info": {
   "codemirror_mode": {
    "name": "ipython",
    "version": 3
   },
   "file_extension": ".py",
   "mimetype": "text/x-python",
   "name": "python",
   "nbconvert_exporter": "python",
   "pygments_lexer": "ipython3",
   "version": "3.7.2"
  }
 },
 "nbformat": 4,
 "nbformat_minor": 5
}
