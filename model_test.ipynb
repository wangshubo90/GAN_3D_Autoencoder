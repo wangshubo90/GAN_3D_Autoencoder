{
 "cells": [
  {
   "cell_type": "code",
   "execution_count": 1,
   "id": "11195861",
   "metadata": {},
   "outputs": [],
   "source": [
    "import os\n",
    "import numpy as np\n",
    "from random import sample, seed\n",
    "from tqdm import tqdm\n",
    "import tensorflow as tf \n",
    "\n",
    "os.environ[\"TF_CPP_MIN_LOG_LEVEL\"] = \"0\"\n",
    "os.environ['AUTOGRAPH_VERBOSITY'] = \"0\"\n",
    "tf.autograph.set_verbosity(0)\n",
    "from tensorflow import keras\n",
    "from tensorflow.keras import layers, Sequential, Model\n",
    "from tensorflow.keras.layers import Dense, Conv3D, Conv1D, Conv3DTranspose, Flatten, Reshape, Input, BatchNormalization, GlobalAveragePooling3D, Dropout\n",
    "from tensorflow.keras.activations import relu, sigmoid\n",
    "from tensorflow.keras.initializers import RandomNormal\n",
    "from tensorflow.keras.optimizers import Adam, SGD\n",
    "from tensorflow.keras.utils import plot_model\n",
    "from utils.layers import *"
   ]
  },
  {
   "cell_type": "code",
   "execution_count": 2,
   "id": "1f9e089c",
   "metadata": {},
   "outputs": [],
   "source": [
    "def _buildEncoder(input_shape, filters=[16, 32, 64, 128], last_activation=relu):\n",
    "    \n",
    "    input = Input(shape=input_shape)\n",
    "    x = Conv3D(filters=filters[0], kernel_size=5, strides=(2,2,2), padding=\"SAME\")(input)\n",
    "    x = BatchNormalization()(x)\n",
    "    x = relu(x)\n",
    "    for i, ft in enumerate(filters[1:]):\n",
    "        if i == len(filters[1:])-1:\n",
    "            x = residual_block(x, filters = ft, kernel_size= 3,  \n",
    "                        strides = (2,2,2), padding = \"SAME\", activate=relu)\n",
    "        else:\n",
    "            x = residual_block(x, filters = ft, kernel_size= 3,  \n",
    "                        strides = (2,2,2), padding = \"SAME\", activate=last_activation)\n",
    "    \n",
    "    encoder = Model(inputs=input, outputs=x)        \n",
    "    return encoder"
   ]
  },
  {
   "cell_type": "code",
   "execution_count": 3,
   "id": "72514c70",
   "metadata": {},
   "outputs": [],
   "source": [
    "encoder = _buildEncoder([48,96,96,1], filters=[16, 32, 64, 128])"
   ]
  },
  {
   "cell_type": "code",
   "execution_count": 4,
   "id": "7ab5419b",
   "metadata": {},
   "outputs": [
    {
     "name": "stdout",
     "output_type": "stream",
     "text": [
      "WARNING:tensorflow:AutoGraph could not transform <bound method TensorFlowOpLayer._defun_call of <tensorflow.python.eager.function.TfMethodTarget object at 0x0000017A27D2DD68>> and will run it as-is.\n",
      "Please report this to the TensorFlow team. When filing the bug, set the verbosity to 10 (on Linux, `export AUTOGRAPH_VERBOSITY=10`) and attach the full output.\n",
      "Cause: unsupported operand type(s) for -: 'NoneType' and 'int'\n",
      "To silence this warning, decorate the function with @tf.autograph.experimental.do_not_convert\n",
      "(None, 3, 6, 6, 128)\n"
     ]
    }
   ],
   "source": [
    "a = tf.ones(shape=[8,15,60,60,1], dtype=tf.float32)\n",
    "b = encoder(a[slice(None)])\n",
    "b.shape\n",
    "shape=encoder.output_shape\n",
    "print(shape)"
   ]
  },
  {
   "cell_type": "code",
   "execution_count": 5,
   "id": "0a261fac",
   "metadata": {},
   "outputs": [],
   "source": [
    "def _buildDecoder(input_shape, filters=[16, 32, 64, 128], last_activation=relu, **kwargs):\n",
    "    input = Input(shape=input_shape)\n",
    "    x = input\n",
    "    for i, ft in enumerate(filters[-1:0:-1]):\n",
    "        if i != len(filters[-2::-1])-1:\n",
    "            x = resTP_block(x, filters=ft, strides=(2,2,2),padding=\"SAME\")\n",
    "        else:\n",
    "            x = resTP_block(x, filters=ft, strides=(2,2,2),padding=\"SAME\", activation=\"relu\")\n",
    "    \n",
    "    x = Conv3DTranspose(filters=filters[0], kernel_size=3, strides=(2,)*3, padding=\"SAME\", activation=\"relu\")(x)\n",
    "    x = BatchNormalization()(x)\n",
    "    \n",
    "    if \"slices\" in kwargs:\n",
    "        slices = kwargs[\"slices\"]\n",
    "        x = x[slices]\n",
    "\n",
    "    x = Conv3DTranspose(filters=1, kernel_size=3, strides=(1,)*3, padding=\"SAME\", activation=last_activation)(x)\n",
    "    decoder = Model(inputs=input, outputs=x)\n",
    "    return decoder"
   ]
  },
  {
   "cell_type": "code",
   "execution_count": 8,
   "id": "f2b02533",
   "metadata": {},
   "outputs": [],
   "source": [
    "encoder.output_shape\n",
    "slices= [slice(None), slice(None,15), slice(2,62), slice(2,62), slice(None)]\n",
    "slices=slice(None)"
   ]
  },
  {
   "cell_type": "code",
   "execution_count": 9,
   "id": "22eeb105",
   "metadata": {},
   "outputs": [],
   "source": [
    "decoder = _buildDecoder(shape[1:], slices=slices)"
   ]
  },
  {
   "cell_type": "code",
   "execution_count": 10,
   "id": "3e20aad8",
   "metadata": {},
   "outputs": [
    {
     "name": "stdout",
     "output_type": "stream",
     "text": [
      "(None, 48, 96, 96, 1)\n",
      "(None, 3, 6, 6, 128)\n",
      "(None, 3, 6, 6, 128)\n",
      "(None, 48, 96, 96, 1)\n"
     ]
    }
   ],
   "source": [
    "print(encoder.input_shape)\n",
    "print(encoder.output_shape)\n",
    "print(decoder.input_shape)\n",
    "print(decoder.output_shape)"
   ]
  },
  {
   "cell_type": "code",
   "execution_count": null,
   "id": "12d7540c",
   "metadata": {},
   "outputs": [],
   "source": [
    "plot_model(encoder, show_shapes=True, to_file='resEncoder.png')\n",
    "plot_model(decoder, show_shapes=True, to_file='resDecoder.png')\n",
    "\n",
    "input = Input(shape=encoder.input_shape[1:])\n",
    "ae = Model(input, decoder(encoder(input)))\n",
    "plot_model(ae, show_shapes=True, to_file='resAE.png')"
   ]
  },
  {
   "cell_type": "code",
   "execution_count": 12,
   "id": "42b8f6f9",
   "metadata": {},
   "outputs": [],
   "source": [
    "def _buildDiscriminator(input_shape, filters=[16, 32, 64, 128], last_activation=relu):\n",
    "\n",
    "    input = Input(shape=input_shape)\n",
    "    x = Conv3D(filters=filters[0], kernel_size=5, strides=(2,2,2), padding=\"SAME\")(input)\n",
    "    x = BatchNormalization()(x)\n",
    "    x = relu(x)\n",
    "    for i, ft in enumerate(filters[1:]):\n",
    "        if i == len(filters[1:])-1:\n",
    "            x = residual_block(x, filters = ft, kernel_size= 3,  \n",
    "                        strides = (2,2,2), padding = \"SAME\", activate=relu)\n",
    "        else:\n",
    "            x = residual_block(x, filters = ft, kernel_size= 3,  \n",
    "                        strides = (2,2,2), padding = \"SAME\", activate=last_activation)\n",
    "\n",
    "    x = GlobalAveragePooling3D()(x)\n",
    "    x = Flatten()(x)\n",
    "    x = Dense(128, activation=relu)(x)\n",
    "    x = Dropout(0.7)(x)\n",
    "    x = Dense(128, activation=relu)(x)\n",
    "    x = Dropout(0.7)(x)\n",
    "    x = Dense(1, activation=sigmoid)(x)\n",
    "    discriminator = Model(inputs=input, outputs=x) \n",
    "\n",
    "    return discriminator"
   ]
  },
  {
   "cell_type": "code",
   "execution_count": 13,
   "id": "d4824f47",
   "metadata": {},
   "outputs": [],
   "source": [
    "ds = _buildDiscriminator([15, 60, 60, 1])"
   ]
  },
  {
   "cell_type": "code",
   "execution_count": 15,
   "id": "6f377b3f",
   "metadata": {},
   "outputs": [
    {
     "data": {
      "text/plain": [
       "<tf.Tensor: shape=(12, 1), dtype=float32, numpy=\n",
       "array([[0.5034788],\n",
       "       [0.5034788],\n",
       "       [0.5034788],\n",
       "       [0.5034788],\n",
       "       [0.5034788],\n",
       "       [0.5034788],\n",
       "       [0.5034788],\n",
       "       [0.5034788],\n",
       "       [0.5034788],\n",
       "       [0.5034788],\n",
       "       [0.5034788],\n",
       "       [0.5034788]], dtype=float32)>"
      ]
     },
     "execution_count": 15,
     "metadata": {},
     "output_type": "execute_result"
    }
   ],
   "source": [
    "ds(tf.ones(shape=(12, 60, 60, 1)))"
   ]
  },
  {
   "cell_type": "code",
   "execution_count": null,
   "id": "f90f7059",
   "metadata": {},
   "outputs": [],
   "source": []
  },
  {
   "cell_type": "code",
   "execution_count": 1,
   "id": "25c48428",
   "metadata": {},
   "outputs": [],
   "source": [
    "from model.resAAE import resAAE\n",
    "\n",
    "config={\n",
    "    \"optG_lr\":0.0002,\n",
    "    \"optG_beta\":0.5,\n",
    "    \"optD_lr\":0.0001,\n",
    "    \"optD_beta\":0.5,\n",
    "    \"optAE_lr\":0.001,\n",
    "    \"optAE_beta\":0.9,\n",
    "    \"img_shape\": (48, 96, 96, 1), \n",
    "    \"encoded_dim\": 16, \n",
    "    \"loss\": \"mse\", \n",
    "    \"acc\": \"mse\",\n",
    "    \"hidden\": (16, 32, 64, 128),\n",
    "    \"output_slices\": slice(None),\n",
    "    \"batch_size\": 16,\n",
    "    \"epochs\": 5000\n",
    "}\n",
    "\n",
    "model = resAAE(**config)"
   ]
  },
  {
   "cell_type": "code",
   "execution_count": 2,
   "id": "3b5c3859",
   "metadata": {},
   "outputs": [
    {
     "ename": "NameError",
     "evalue": "name 'plot_model' is not defined",
     "output_type": "error",
     "traceback": [
      "\u001b[1;31m---------------------------------------------------------------------------\u001b[0m",
      "\u001b[1;31mNameError\u001b[0m                                 Traceback (most recent call last)",
      "\u001b[1;32m<ipython-input-2-d69abd8579ef>\u001b[0m in \u001b[0;36m<module>\u001b[1;34m\u001b[0m\n\u001b[1;32m----> 1\u001b[1;33m \u001b[0mplot_model\u001b[0m\u001b[1;33m(\u001b[0m\u001b[0mmodel\u001b[0m\u001b[1;33m.\u001b[0m\u001b[0mencoder\u001b[0m\u001b[1;33m,\u001b[0m \u001b[0mshow_shapes\u001b[0m\u001b[1;33m=\u001b[0m\u001b[1;32mTrue\u001b[0m\u001b[1;33m,\u001b[0m \u001b[0mto_file\u001b[0m\u001b[1;33m=\u001b[0m\u001b[1;34m'resEncoder.png'\u001b[0m\u001b[1;33m)\u001b[0m\u001b[1;33m\u001b[0m\u001b[1;33m\u001b[0m\u001b[0m\n\u001b[0m\u001b[0;32m      2\u001b[0m \u001b[0mplot_model\u001b[0m\u001b[1;33m(\u001b[0m\u001b[0mmodel\u001b[0m\u001b[1;33m.\u001b[0m\u001b[0mdecoder\u001b[0m\u001b[1;33m,\u001b[0m \u001b[0mshow_shapes\u001b[0m\u001b[1;33m=\u001b[0m\u001b[1;32mTrue\u001b[0m\u001b[1;33m,\u001b[0m \u001b[0mto_file\u001b[0m\u001b[1;33m=\u001b[0m\u001b[1;34m'resDecoder.png'\u001b[0m\u001b[1;33m)\u001b[0m\u001b[1;33m\u001b[0m\u001b[1;33m\u001b[0m\u001b[0m\n\u001b[0;32m      3\u001b[0m \u001b[0mplot_model\u001b[0m\u001b[1;33m(\u001b[0m\u001b[0mmodel\u001b[0m\u001b[1;33m.\u001b[0m\u001b[0mautoencoder\u001b[0m\u001b[1;33m,\u001b[0m \u001b[0mshow_shapes\u001b[0m\u001b[1;33m=\u001b[0m\u001b[1;32mTrue\u001b[0m\u001b[1;33m,\u001b[0m \u001b[0mto_file\u001b[0m\u001b[1;33m=\u001b[0m\u001b[1;34m'resAE.png'\u001b[0m\u001b[1;33m)\u001b[0m\u001b[1;33m\u001b[0m\u001b[1;33m\u001b[0m\u001b[0m\n\u001b[0;32m      4\u001b[0m \u001b[0mplot_model\u001b[0m\u001b[1;33m(\u001b[0m\u001b[0mmodel\u001b[0m\u001b[1;33m.\u001b[0m\u001b[0mdiscriminator\u001b[0m\u001b[1;33m,\u001b[0m \u001b[0mshow_shapes\u001b[0m\u001b[1;33m=\u001b[0m\u001b[1;32mTrue\u001b[0m\u001b[1;33m,\u001b[0m \u001b[0mto_file\u001b[0m\u001b[1;33m=\u001b[0m\u001b[1;34m'resDiscriminator.png'\u001b[0m\u001b[1;33m)\u001b[0m\u001b[1;33m\u001b[0m\u001b[1;33m\u001b[0m\u001b[0m\n",
      "\u001b[1;31mNameError\u001b[0m: name 'plot_model' is not defined"
     ]
    }
   ],
   "source": [
    "plot_model(model.encoder, show_shapes=True, to_file='resEncoder.png')\n",
    "plot_model(model.decoder, show_shapes=True, to_file='resDecoder.png')\n",
    "plot_model(model.autoencoder, show_shapes=True, to_file='resAE.png')\n",
    "plot_model(model.discriminator, show_shapes=True, to_file='resDiscriminator.png')"
   ]
  },
  {
   "cell_type": "code",
   "execution_count": 3,
   "id": "6ffaaa33",
   "metadata": {},
   "outputs": [],
   "source": [
    "import numpy as np\n",
    "test = np.ones(shape=(120,48,96,96,1),dtype=np.float32)"
   ]
  },
  {
   "cell_type": "code",
   "execution_count": 5,
   "id": "aa11e010",
   "metadata": {},
   "outputs": [],
   "source": [
    "a = model.train_step(test,test)"
   ]
  },
  {
   "cell_type": "code",
   "execution_count": 9,
   "id": "767d31b7",
   "metadata": {},
   "outputs": [
    {
     "name": "stdout",
     "output_type": "stream",
     "text": [
      "WARNING:tensorflow:AutoGraph could not transform <bound method TensorFlowOpLayer._defun_call of <tensorflow.python.eager.function.TfMethodTarget object at 0x000002475ABBB630>> and will run it as-is.\n",
      "Please report this to the TensorFlow team. When filing the bug, set the verbosity to 10 (on Linux, `export AUTOGRAPH_VERBOSITY=10`) and attach the full output.\n",
      "Cause: unsupported operand type(s) for -: 'NoneType' and 'int'\n",
      "To silence this warning, decorate the function with @tf.autograph.experimental.do_not_convert\n"
     ]
    }
   ],
   "source": [
    "b= model.autoencoder(test[:5])"
   ]
  },
  {
   "cell_type": "code",
   "execution_count": 10,
   "id": "d7738b2d",
   "metadata": {},
   "outputs": [
    {
     "data": {
      "text/plain": [
       "TensorShape([5, 48, 96, 96, 1])"
      ]
     },
     "execution_count": 10,
     "metadata": {},
     "output_type": "execute_result"
    }
   ],
   "source": [
    "b.shape"
   ]
  },
  {
   "cell_type": "code",
   "execution_count": null,
   "id": "59ccca74",
   "metadata": {},
   "outputs": [],
   "source": []
  }
 ],
 "metadata": {
  "interpreter": {
   "hash": "644efceaebe1939fdf04df25ea392b1703e46490d69dd404445382da198b6390"
  },
  "kernelspec": {
   "display_name": "Python 3",
   "language": "python",
   "name": "python3"
  },
  "language_info": {
   "codemirror_mode": {
    "name": "ipython",
    "version": 3
   },
   "file_extension": ".py",
   "mimetype": "text/x-python",
   "name": "python",
   "nbconvert_exporter": "python",
   "pygments_lexer": "ipython3",
   "version": "3.7.2"
  }
 },
 "nbformat": 4,
 "nbformat_minor": 5
}
